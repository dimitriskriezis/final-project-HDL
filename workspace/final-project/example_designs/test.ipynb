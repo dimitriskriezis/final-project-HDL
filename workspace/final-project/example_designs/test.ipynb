{
 "cells": [
  {
   "cell_type": "code",
   "execution_count": 6,
   "id": "5c26624e-86a5-40fe-bf4f-a0af77d5f15e",
   "metadata": {},
   "outputs": [
    {
     "name": "stderr",
     "output_type": "stream",
     "text": [
      "usage: ipykernel_launcher.py [-h] [--clear-outputs]\n",
      "                             [--architecture ARCHITECTURE]\n",
      "                             [--generate-ref-outputs] [--problem PROBLEM]\n",
      "                             [--n_jobs N_JOBS] [--remove-sparse-opts]\n",
      "ipykernel_launcher.py: error: unrecognized arguments: -f /tmp/kernel-09af7d83-9e7d-483f-b0eb-e007eaf6d9e1.json\n"
     ]
    },
    {
     "ename": "SystemExit",
     "evalue": "2",
     "output_type": "error",
     "traceback": [
      "An exception has occurred, use %tb to see the full traceback.\n",
      "\u001b[0;31mSystemExit\u001b[0m\u001b[0;31m:\u001b[0m 2\n"
     ]
    }
   ],
   "source": [
    "from run_example_designs import get_arguments, get_architecture_targets\n",
    "\n",
    "args = get_arguments()\n",
    "arch_targets = get_architecture_targets()\n",
    "\n",
    "print(\"here\")\n",
    "if args.clear_outputs:\n",
    "    os.system(f\"rm -rf {EXAMPLE_DIR}/*/outputs\")\n",
    "    os.system(f\"rm -rf {EXAMPLE_DIR}/*/ref_outputs\")\n",
    "    os.system(f\"rm -rf {EXAMPLE_DIR}/*/*/outputs\")\n",
    "    os.system(f\"rm -rf {EXAMPLE_DIR}/*/*/ref_outputs\")\n",
    "    exit(0)\n",
    "\n",
    "arch = args.architecture\n",
    "\n",
    "# Default to the first architecture if none is specified\n",
    "if arch is None or not arch:\n",
    "    arch = arch_targets[0]\n",
    "# If arch is \"all\", run all architectures\n",
    "if str(arch).lower() == \"all\":\n",
    "    arch = arch_targets\n",
    "\n",
    "# If arch is a string, make it a list\n",
    "arch = [arch] if isinstance(arch, str) else arch\n",
    "\n",
    "# Put togher the list of problems to run\n",
    "problems = [None]\n",
    "if args.problem:\n",
    "    problem = os.path.join(THIS_SCRIPT_DIR, \"layer_shapes\", args.problem)\n",
    "    if os.path.isdir(problem):\n",
    "        problems = [os.path.join(problem, f) for f in os.listdir(problem)]\n",
    "    else:\n",
    "        problems = [problem]\n",
    "\n",
    "# Run parallel processes for all architectures and problems\n",
    "joblib.Parallel(n_jobs=args.n_jobs)(\n",
    "    joblib.delayed(run_mapper)(\n",
    "        a, p, args.generate_ref_outputs, args.remove_sparse_opts\n",
    "    )\n",
    "    for a in arch\n",
    "    for p in problems\n",
    ")\n"
   ]
  },
  {
   "cell_type": "code",
   "execution_count": null,
   "id": "55b91076-209d-4346-9f8e-dd75caf68292",
   "metadata": {},
   "outputs": [],
   "source": []
  }
 ],
 "metadata": {
  "kernelspec": {
   "display_name": "Python 3 (ipykernel)",
   "language": "python",
   "name": "python3"
  },
  "language_info": {
   "codemirror_mode": {
    "name": "ipython",
    "version": 3
   },
   "file_extension": ".py",
   "mimetype": "text/x-python",
   "name": "python",
   "nbconvert_exporter": "python",
   "pygments_lexer": "ipython3",
   "version": "3.8.10"
  }
 },
 "nbformat": 4,
 "nbformat_minor": 5
}
